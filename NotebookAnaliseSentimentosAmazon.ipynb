{
 "cells": [
  {
   "cell_type": "markdown",
   "metadata": {},
   "source": [
    "** Análise de Sentimentos – reviews_Clothing_Shoes_and_Jewelry Amazon"
   ]
  },
  {
   "cell_type": "code",
   "execution_count": 155,
   "metadata": {},
   "outputs": [
    {
     "name": "stdout",
     "output_type": "stream",
     "text": [
      "MongoClient(host=['localhost:27017'], document_class=dict, tz_aware=False, connect=True)\n"
     ]
    },
    {
     "data": {
      "text/plain": [
       "{'_id': ObjectId('5a022e00fce323bee830197c'),\n",
       " 'asin': '0000031887',\n",
       " 'classification': 'Positive',\n",
       " 'helpful': [0, 0],\n",
       " 'overall': 5.0,\n",
       " 'reviewText': 'What can I say... my daughters have it in orange, black, white and pink and I am thinking to buy for they the fuccia one. It is a very good way for exalt a dancer outfit: great colors, comfortable, looks great, easy to wear, durables and little girls love it. I think it is a great buy for costumer and play too.',\n",
       " 'reviewTime': '01 4, 2013',\n",
       " 'reviewerID': 'A1RLQXYNCMWRWN',\n",
       " 'reviewerName': 'Carola',\n",
       " 'summary': 'I have buy more than one',\n",
       " 'unixReviewTime': 1357257600}"
      ]
     },
     "execution_count": 155,
     "metadata": {},
     "output_type": "execute_result"
    }
   ],
   "source": [
    "import nltk\n",
    "import re\n",
    "import pandas as pd\n",
    "from sklearn.feature_extraction.text import CountVectorizer\n",
    "from sklearn.naive_bayes import MultinomialNB\n",
    "from sklearn import metrics\n",
    "from sklearn.model_selection import cross_val_predict\n",
    "from pymongo import MongoClient\n",
    "import pprint\n",
    "import numpy as np\n",
    "\n",
    "client = MongoClient()\n",
    "print (client)\n",
    "db = client.amazon\n",
    "clothing = db.clothing\n",
    "#db.collection_names(include_system_collections=False)\n",
    "#pprint.pprint(clothing.find_one())\n",
    "clothing.find_one()"
   ]
  },
  {
   "cell_type": "markdown",
   "metadata": {},
   "source": [
    "**Ler arquivo de dados e conta a quantidade de linhas**"
   ]
  },
  {
   "cell_type": "code",
   "execution_count": 156,
   "metadata": {
    "collapsed": true
   },
   "outputs": [],
   "source": [
    "dataset = clothing.find()\n",
    "\n",
    "#import gzip\n",
    "\n",
    "#def parse(path):\n",
    " # g = gzip.open(path, 'rb')\n",
    "  #for l in g:\n",
    "   # yield eval(l)\n",
    "\n",
    "#def getDF(path):\n",
    "  #i = 0\n",
    "  #df = {}\n",
    "  #for d in parse(path):\n",
    "    #df[i] = d\n",
    "    #i += 1\n",
    "  #return pd.DataFrame.from_dict(df, orient='index')\n",
    "\n",
    "#df = getDF('reviews_Clothing_Shoes_and_Jewelry_5.json.gz')\n",
    "#df.count();"
   ]
  },
  {
   "cell_type": "code",
   "execution_count": 157,
   "metadata": {},
   "outputs": [
    {
     "data": {
      "text/plain": [
       "Unnamed: 0                   8199\n",
       "Created At                   8199\n",
       "Text                         8199\n",
       "Geo Coordinates.latitude      104\n",
       "Geo Coordinates.longitude     104\n",
       "User Location                5489\n",
       "Username                     8199\n",
       "User Screen Name             8199\n",
       "Retweet Count                8199\n",
       "Classificacao                8199\n",
       "Observação                      1\n",
       "Unnamed: 10                     0\n",
       "Unnamed: 11                     0\n",
       "Unnamed: 12                     0\n",
       "Unnamed: 13                     0\n",
       "Unnamed: 14                     0\n",
       "Unnamed: 15                     0\n",
       "Unnamed: 16                     0\n",
       "Unnamed: 17                     0\n",
       "Unnamed: 18                     0\n",
       "Unnamed: 19                     0\n",
       "Unnamed: 20                     0\n",
       "Unnamed: 21                     0\n",
       "Unnamed: 22                     0\n",
       "Unnamed: 23                     0\n",
       "Unnamed: 24                     0\n",
       "dtype: int64"
      ]
     },
     "execution_count": 157,
     "metadata": {},
     "output_type": "execute_result"
    }
   ],
   "source": [
    "dataset.count()\n",
    "\n",
    "#df.count();"
   ]
  },
  {
   "cell_type": "markdown",
   "metadata": {},
   "source": [
    "**Conta a quantidade de linhas de reviews neutros, positivos e negativos**"
   ]
  },
  {
   "cell_type": "code",
   "execution_count": 158,
   "metadata": {},
   "outputs": [
    {
     "data": {
      "text/plain": [
       "30425"
      ]
     },
     "execution_count": 158,
     "metadata": {},
     "output_type": "execute_result"
    }
   ],
   "source": [
    "#dataset[dataset.Classificacao=='Neutro'].count()\n",
    "\n",
    "#for record in dataset:\n",
    " #   print(record['overall']) \n",
    "  #  print(record['classification']=='Positive')\n",
    "   # break;\n",
    "\n",
    "#dataset[dataset.classification=='Neutral'].count()\n",
    "\n",
    "clothing.count({\"classification\": \"Neutral\"})\n",
    "\n",
    "#df[df.classification=='Neutral'].count()"
   ]
  },
  {
   "cell_type": "code",
   "execution_count": 159,
   "metadata": {},
   "outputs": [
    {
     "data": {
      "text/plain": [
       "221597"
      ]
     },
     "execution_count": 159,
     "metadata": {},
     "output_type": "execute_result"
    }
   ],
   "source": [
    "#dataset[dataset.Classificacao=='Positivo'].count()\n",
    "\n",
    "clothing.count({\"classification\": \"Positive\"})\n",
    "\n",
    "#df[df.classification=='Positive'].count()"
   ]
  },
  {
   "cell_type": "code",
   "execution_count": 160,
   "metadata": {},
   "outputs": [
    {
     "data": {
      "text/plain": [
       "26655"
      ]
     },
     "execution_count": 160,
     "metadata": {},
     "output_type": "execute_result"
    }
   ],
   "source": [
    "#dataset[dataset.Classificacao=='Negativo'].count()\n",
    "\n",
    "clothing.count({\"classification\": \"Negative\"})\n",
    "\n",
    "#df[df.classification=='Negative'].count()"
   ]
  },
  {
   "cell_type": "markdown",
   "metadata": {},
   "source": [
    "** Pre-Processamento **"
   ]
  },
  {
   "cell_type": "code",
   "execution_count": 161,
   "metadata": {
    "collapsed": true
   },
   "outputs": [],
   "source": [
    "def PreprocessamentoSemStopWords(instancia):\n",
    "    #remove links dos reviews\n",
    "    #remove stopwords\n",
    "    instancia = re.sub(r\"http\\S+\", \"\", instancia).lower().replace(',','').replace('.','').replace(';','').replace('-','')\n",
    "    stopwords = set(nltk.corpus.stopwords.words('english'))\n",
    "    palavras = [i for i in instancia.split() if not i in stopwords]\n",
    "    return (\" \".join(palavras))"
   ]
  },
  {
   "cell_type": "code",
   "execution_count": 162,
   "metadata": {
    "collapsed": true
   },
   "outputs": [],
   "source": [
    "def Stemming(instancia):\n",
    "    stemmer = nltk.stem.RSLPStemmer()\n",
    "    palavras=[]\n",
    "    for w in instancia.split():\n",
    "        palavras.append(stemmer.stem(w))\n",
    "    return (\" \".join(palavras))    "
   ]
  },
  {
   "cell_type": "code",
   "execution_count": 163,
   "metadata": {
    "collapsed": true
   },
   "outputs": [],
   "source": [
    "def Preprocessamento(instancia):\n",
    "    #remove links, pontos, virgulas,ponto e virgulas dos reviews\n",
    "    #coloca tudo em minusculo\n",
    "    instancia = re.sub(r\"http\\S+\", \"\", instancia).lower().replace(',','').replace('.','').replace(';','').replace('-','').replace(':','')\n",
    "    return (instancia)"
   ]
  },
  {
   "cell_type": "code",
   "execution_count": 164,
   "metadata": {},
   "outputs": [
    {
     "name": "stdout",
     "output_type": "stream",
     "text": [
      "say daughters orange black white pink thinking buy fuccia one good way exalt dancer outfit: great colors comfortable looks great easy wear durables little girls love think great buy costumer play\n",
      "say daught orang black whit pink thinking buy fucc one good way exalt danc outfit: great col comfortabl look great easy we durabl littl girl lov think great buy costum play\n"
     ]
    }
   ],
   "source": [
    "instancia = PreprocessamentoSemStopWords('What can I say... my daughters have it in orange, black, white and pink and I am thinking to buy for they the fuccia one. It is a very good way for exalt a dancer outfit: great colors, comfortable, looks great, easy to wear, durables and little girls love it. I think it is a great buy for costumer and play too.')\n",
    "print(instancia)\n",
    "instancia = Stemming(instancia)\n",
    "print(instancia)"
   ]
  },
  {
   "cell_type": "markdown",
   "metadata": {},
   "source": [
    "** Separando reviews e suas classes\n",
    "**"
   ]
  },
  {
   "cell_type": "code",
   "execution_count": 165,
   "metadata": {},
   "outputs": [
    {
     "name": "stdout",
     "output_type": "stream",
     "text": [
      "<class 'numpy.ndarray'>\n",
      "['Positive' 'Positive' 'Positive' ..., 'Positive' 'Positive' 'Positive']\n"
     ]
    }
   ],
   "source": [
    "reviews = []\n",
    "for r in clothing.find({}, { \"_id\": 0, \"reviewText\": 1} ):\n",
    "    reviewText = PreprocessamentoSemStopWords(r['reviewText'])\n",
    "    reviewText = Stemming(instancia)\n",
    "    reviews.append(reviewText)\n",
    "\n",
    "#print(len(reviews))\n",
    "    \n",
    "#print(reviews[0])\n",
    "#print(reviews[1])\n",
    "\n",
    "classifications = []\n",
    "for c in clothing.find({}, { \"_id\": 0, \"classification\": 1} ):\n",
    "    classifications.append(c['classification'])\n",
    "\n",
    "classifications = np.asarray(classifications)\n",
    "\n",
    "print(classifications)\n",
    "\n",
    "#print(len(classifications))\n",
    "#print(classifications.values)\n",
    "\n",
    "#for cl in classifications :\n",
    " #   print(cl)\n",
    "\n",
    "#reviews = df['reviewText'].values\n",
    "#classifications = df['classification'].values"
   ]
  },
  {
   "cell_type": "markdown",
   "metadata": {
    "collapsed": true
   },
   "source": [
    "**Gerando o modelo**"
   ]
  },
  {
   "cell_type": "code",
   "execution_count": 166,
   "metadata": {},
   "outputs": [
    {
     "data": {
      "text/plain": [
       "MultinomialNB(alpha=1.0, class_prior=None, fit_prior=True)"
      ]
     },
     "execution_count": 166,
     "metadata": {},
     "output_type": "execute_result"
    }
   ],
   "source": [
    "vectorizer = CountVectorizer(analyzer=\"word\")\n",
    "freq_reviews = vectorizer.fit_transform(reviews)\n",
    "modelo = MultinomialNB()\n",
    "modelo.fit(freq_reviews, classifications)"
   ]
  },
  {
   "cell_type": "markdown",
   "metadata": {},
   "source": [
    "** Testando o modelo com algumas instâncias simples**"
   ]
  },
  {
   "cell_type": "code",
   "execution_count": 167,
   "metadata": {
    "collapsed": true
   },
   "outputs": [],
   "source": [
    "# defina instâncias de teste dentro de uma lista"
   ]
  },
  {
   "cell_type": "code",
   "execution_count": 168,
   "metadata": {
    "collapsed": true
   },
   "outputs": [],
   "source": [
    "testes = [\"My 3yr old loved this tutu skirt in pink! Was hoping to order more in different colors.She had hardly used this,the stitching came apart in 2weeks.now it's lying in her closet..Altogether she wore it like 4-5 times for 20 mins or so.wish the stitching was of better quality to hold up while little ones wear it. Can't recommend.\",\n",
    "         \"What can I say... my daughters have it in orange, black, white and pink and I am thinking to buy for they the fuccia one. It is a very good way for exalt a dancer outfit: great colors, comfortable, looks great, easy to wear, durables and little girls love it. I think it is a great buy for costumer and play too.\",\n",
    "        \"Never GOT this item - but gave a 1 STAR because the replies from the SUPPLIER was GREAT.They tried to send the item more than once.My $ was refunded in a timely manner too.It was a shame I never got it for my daughter - it would of looked great with her OUTFIT for Dr. Seuss WEEK at school.Most original.Maybe next time.\", \n",
    "       \"I already own this particular Shining Image jewelry box in brown, so this was my second buy. It arrived with some of the leather scratched, even though it looked like I was the first one opening the box. This particular color pink also looked pretty bad in person. The quality of this box seemed lesser than the brown one I own.I returned this pink case for a refund without a problem.  Got another brown Shining Image jewelry case and it's fine!\"]"
   ]
  },
  {
   "cell_type": "code",
   "execution_count": 169,
   "metadata": {
    "collapsed": true
   },
   "outputs": [],
   "source": [
    "freq_testes = vectorizer.transform(testes)"
   ]
  },
  {
   "cell_type": "code",
   "execution_count": 170,
   "metadata": {
    "collapsed": true
   },
   "outputs": [],
   "source": [
    "# Fazendo a classificação com o modelo treinado."
   ]
  },
  {
   "cell_type": "code",
   "execution_count": 171,
   "metadata": {},
   "outputs": [
    {
     "data": {
      "text/plain": [
       "array(['Positive', 'Positive', 'Positive', 'Positive'],\n",
       "      dtype='<U8')"
      ]
     },
     "execution_count": 171,
     "metadata": {},
     "output_type": "execute_result"
    }
   ],
   "source": [
    "modelo.predict(freq_testes)"
   ]
  },
  {
   "cell_type": "markdown",
   "metadata": {},
   "source": [
    "** Avaliando o modelo **"
   ]
  },
  {
   "cell_type": "code",
   "execution_count": 172,
   "metadata": {
    "collapsed": true
   },
   "outputs": [],
   "source": [
    "# Fazendo o cross validation do modelo"
   ]
  },
  {
   "cell_type": "code",
   "execution_count": 173,
   "metadata": {
    "collapsed": true
   },
   "outputs": [],
   "source": [
    "resultados = cross_val_predict(modelo, freq_reviews, classifications, cv=10)\n",
    "#len(resultados)\n",
    "\n",
    "#print(classifications)\n",
    "#len(classifications)"
   ]
  },
  {
   "cell_type": "code",
   "execution_count": 174,
   "metadata": {
    "collapsed": true
   },
   "outputs": [],
   "source": [
    "# Medindo a acurácia média do modelo"
   ]
  },
  {
   "cell_type": "code",
   "execution_count": 175,
   "metadata": {},
   "outputs": [
    {
     "data": {
      "text/plain": [
       "0.79517505929804033"
      ]
     },
     "execution_count": 175,
     "metadata": {},
     "output_type": "execute_result"
    }
   ],
   "source": [
    "metrics.accuracy_score(classifications,resultados)"
   ]
  },
  {
   "cell_type": "code",
   "execution_count": 176,
   "metadata": {
    "collapsed": true
   },
   "outputs": [],
   "source": [
    "# Medidas de validação do modelo"
   ]
  },
  {
   "cell_type": "code",
   "execution_count": 178,
   "metadata": {},
   "outputs": [
    {
     "name": "stdout",
     "output_type": "stream",
     "text": [
      "             precision    recall  f1-score   support\n",
      "\n",
      "   Positive       0.80      1.00      0.89    221597\n",
      "   Negative       0.00      0.00      0.00     26655\n",
      "    Neutral       0.00      0.00      0.00     30425\n",
      "\n",
      "avg / total       0.63      0.80      0.70    278677\n",
      "\n"
     ]
    },
    {
     "name": "stderr",
     "output_type": "stream",
     "text": [
      "/home/vagner/anaconda3/lib/python3.6/site-packages/sklearn/metrics/classification.py:1135: UndefinedMetricWarning: Precision and F-score are ill-defined and being set to 0.0 in labels with no predicted samples.\n",
      "  'precision', 'predicted', average, warn_for)\n"
     ]
    }
   ],
   "source": [
    "sentimento=['Positive','Negative','Neutral']\n",
    "print (metrics.classification_report(classifications,resultados,sentimento))"
   ]
  },
  {
   "cell_type": "code",
   "execution_count": 179,
   "metadata": {
    "collapsed": true
   },
   "outputs": [],
   "source": [
    "# Matriz de confusão"
   ]
  },
  {
   "cell_type": "code",
   "execution_count": 180,
   "metadata": {},
   "outputs": [
    {
     "name": "stdout",
     "output_type": "stream",
     "text": [
      "Predicted  Positive     All\n",
      "True                       \n",
      "Negative      26655   26655\n",
      "Neutral       30425   30425\n",
      "Positive     221597  221597\n",
      "All          278677  278677\n"
     ]
    }
   ],
   "source": [
    "print(pd.crosstab(classifications, resultados, rownames=['True'], colnames=['Predicted'], margins=True))\n"
   ]
  },
  {
   "cell_type": "markdown",
   "metadata": {},
   "source": [
    "** Melhorando resultados com Bigrams**"
   ]
  },
  {
   "cell_type": "code",
   "execution_count": 181,
   "metadata": {},
   "outputs": [
    {
     "data": {
      "text/plain": [
       "MultinomialNB(alpha=1.0, class_prior=None, fit_prior=True)"
      ]
     },
     "execution_count": 181,
     "metadata": {},
     "output_type": "execute_result"
    }
   ],
   "source": [
    "vectorizer = CountVectorizer(ngram_range=(1,2))\n",
    "freq_reviews = vectorizer.fit_transform(reviews)\n",
    "modelo = MultinomialNB()\n",
    "modelo.'fit'(freq_reviews,classifications)"
   ]
  },
  {
   "cell_type": "code",
   "execution_count": 182,
   "metadata": {
    "collapsed": true
   },
   "outputs": [],
   "source": [
    "resultados = cross_val_predict(modelo, freq_reviews, classifications, cv=10)"
   ]
  },
  {
   "cell_type": "code",
   "execution_count": 183,
   "metadata": {},
   "outputs": [
    {
     "data": {
      "text/plain": [
       "0.79517505929804033"
      ]
     },
     "execution_count": 183,
     "metadata": {},
     "output_type": "execute_result"
    }
   ],
   "source": [
    "metrics.accuracy_score(classifications,resultados)"
   ]
  },
  {
   "cell_type": "code",
   "execution_count": 184,
   "metadata": {
    "scrolled": true
   },
   "outputs": [
    {
     "name": "stdout",
     "output_type": "stream",
     "text": [
      "Predito   Positive     All\n",
      "Real                      \n",
      "Negative     26655   26655\n",
      "Neutral      30425   30425\n",
      "Positive    221597  221597\n",
      "All         278677  278677\n"
     ]
    }
   ],
   "source": [
    "print (pd.crosstab(classifications, resultados, rownames=['Real'], colnames=['Predito'], margins=True))"
   ]
  },
  {
   "cell_type": "code",
   "execution_count": 185,
   "metadata": {},
   "outputs": [
    {
     "name": "stdout",
     "output_type": "stream",
     "text": [
      "             precision    recall  f1-score   support\n",
      "\n",
      "   Positive       0.80      1.00      0.89    221597\n",
      "   Negative       0.00      0.00      0.00     26655\n",
      "    Neutral       0.00      0.00      0.00     30425\n",
      "\n",
      "avg / total       0.63      0.80      0.70    278677\n",
      "\n"
     ]
    },
    {
     "name": "stderr",
     "output_type": "stream",
     "text": [
      "/home/vagner/anaconda3/lib/python3.6/site-packages/sklearn/metrics/classification.py:1135: UndefinedMetricWarning: Precision and F-score are ill-defined and being set to 0.0 in labels with no predicted samples.\n",
      "  'precision', 'predicted', average, warn_for)\n"
     ]
    }
   ],
   "source": [
    "sentimento=['Positive','Negative','Neutral']\n",
    "print (metrics.classification_report(classifications,resultados,sentimento))"
   ]
  },
  {
   "cell_type": "code",
   "execution_count": null,
   "metadata": {
    "collapsed": true
   },
   "outputs": [],
   "source": []
  },
  {
   "cell_type": "code",
   "execution_count": null,
   "metadata": {
    "collapsed": true
   },
   "outputs": [],
   "source": []
  },
  {
   "cell_type": "code",
   "execution_count": null,
   "metadata": {
    "collapsed": true
   },
   "outputs": [],
   "source": []
  },
  {
   "cell_type": "code",
   "execution_count": null,
   "metadata": {
    "collapsed": true
   },
   "outputs": [],
   "source": []
  }
 ],
 "metadata": {
  "kernelspec": {
   "display_name": "Python 3",
   "language": "python",
   "name": "python3"
  },
  "language_info": {
   "codemirror_mode": {
    "name": "ipython",
    "version": 3
   },
   "file_extension": ".py",
   "mimetype": "text/x-python",
   "name": "python",
   "nbconvert_exporter": "python",
   "pygments_lexer": "ipython3",
   "version": "3.6.3"
  }
 },
 "nbformat": 4,
 "nbformat_minor": 2
}

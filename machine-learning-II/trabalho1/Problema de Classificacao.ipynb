{
 "cells": [
  {
   "cell_type": "code",
   "execution_count": 291,
   "metadata": {
    "collapsed": true
   },
   "outputs": [],
   "source": [
    "import numpy as np\n",
    "import pandas as pd\n",
    "import matplotlib.pyplot as plt\n",
    "\n",
    "from sklearn.ensemble import AdaBoostClassifier\n",
    "from sklearn.naive_bayes import GaussianNB\n",
    "from sklearn.tree import DecisionTreeClassifier\n",
    "from sklearn import metrics\n",
    "from collections import Counter\n",
    "from imblearn.under_sampling import RandomUnderSampler\n",
    "\n",
    "%matplotlib inline"
   ]
  },
  {
   "cell_type": "markdown",
   "metadata": {},
   "source": [
    "<h2>Carregando dados de treino</h2>"
   ]
  },
  {
   "cell_type": "code",
   "execution_count": 292,
   "metadata": {
    "collapsed": true
   },
   "outputs": [],
   "source": [
    "X_train = np.genfromtxt('datasets/UCI_HAR_Dataset/train/X_train.txt')"
   ]
  },
  {
   "cell_type": "code",
   "execution_count": 293,
   "metadata": {},
   "outputs": [
    {
     "data": {
      "text/plain": [
       "(7352, 561)"
      ]
     },
     "execution_count": 293,
     "metadata": {},
     "output_type": "execute_result"
    }
   ],
   "source": [
    "X_train.shape"
   ]
  },
  {
   "cell_type": "code",
   "execution_count": 294,
   "metadata": {
    "collapsed": true
   },
   "outputs": [],
   "source": [
    "y_train = np.genfromtxt('datasets/UCI_HAR_Dataset/train/y_train.txt')"
   ]
  },
  {
   "cell_type": "code",
   "execution_count": 295,
   "metadata": {},
   "outputs": [
    {
     "data": {
      "text/plain": [
       "(7352,)"
      ]
     },
     "execution_count": 295,
     "metadata": {},
     "output_type": "execute_result"
    }
   ],
   "source": [
    "y_train.shape"
   ]
  },
  {
   "cell_type": "markdown",
   "metadata": {},
   "source": [
    "<h2>Carregando dados de teste</h2>"
   ]
  },
  {
   "cell_type": "code",
   "execution_count": 296,
   "metadata": {
    "collapsed": true
   },
   "outputs": [],
   "source": [
    "X_test = np.genfromtxt('datasets/UCI_HAR_Dataset/test/X_test.txt')"
   ]
  },
  {
   "cell_type": "code",
   "execution_count": 297,
   "metadata": {},
   "outputs": [
    {
     "data": {
      "text/plain": [
       "(2947, 561)"
      ]
     },
     "execution_count": 297,
     "metadata": {},
     "output_type": "execute_result"
    }
   ],
   "source": [
    "X_test.shape"
   ]
  },
  {
   "cell_type": "code",
   "execution_count": 298,
   "metadata": {
    "collapsed": true
   },
   "outputs": [],
   "source": [
    "y_test = np.genfromtxt('datasets/UCI_HAR_Dataset/test/y_test.txt')"
   ]
  },
  {
   "cell_type": "code",
   "execution_count": 299,
   "metadata": {},
   "outputs": [
    {
     "data": {
      "text/plain": [
       "(2947,)"
      ]
     },
     "execution_count": 299,
     "metadata": {},
     "output_type": "execute_result"
    }
   ],
   "source": [
    "y_test.shape"
   ]
  },
  {
   "cell_type": "markdown",
   "metadata": {},
   "source": [
    "<h2>Histograma - Labels de treino</h2>"
   ]
  },
  {
   "cell_type": "code",
   "execution_count": 300,
   "metadata": {
    "scrolled": true
   },
   "outputs": [
    {
     "data": {
      "image/png": "[encoded data removed]",
      "text/plain": [
       "<matplotlib.figure.Figure at 0x7f9904dfa5f8>"
      ]
     },
     "metadata": {},
     "output_type": "display_data"
    }
   ],
   "source": [
    "lbs, counts = np.unique(y_train, return_counts=True)\n",
    "plt.bar(lbs, counts, align='center')\n",
    "plt.gca().set_xticks(lbs)\n",
    "plt.show()"
   ]
  },
  {
   "cell_type": "code",
   "execution_count": 301,
   "metadata": {},
   "outputs": [],
   "source": [
    "def resample(data, labels):\n",
    "\n",
    "    print('Original dataset shape {}'.format(Counter(labels)))\n",
    "\n",
    "    X_res, y_res = RandomUnderSampler().fit_sample(data, labels)\n",
    "\n",
    "    print('Resampled dataset shape {}'.format(Counter(y_res)))\n",
    "\n",
    "    return X_res, y_res"
   ]
  },
  {
   "cell_type": "code",
   "execution_count": 302,
   "metadata": {},
   "outputs": [
    {
     "name": "stdout",
     "output_type": "stream",
     "text": [
      "Original dataset shape Counter({6.0: 1407, 5.0: 1374, 4.0: 1286, 1.0: 1226, 2.0: 1073, 3.0: 986})\n",
      "Resampled dataset shape Counter({1.0: 986, 2.0: 986, 3.0: 986, 4.0: 986, 5.0: 986, 6.0: 986})\n"
     ]
    },
    {
     "data": {
      "image/png": "[encoded data removed]",
      "text/plain": [
       "<matplotlib.figure.Figure at 0x7f98f73a1cc0>"
      ]
     },
     "metadata": {},
     "output_type": "display_data"
    },
    {
     "name": "stdout",
     "output_type": "stream",
     "text": [
      "X_res shape (5916, 561)\n",
      "y_res shape (5916,)\n"
     ]
    }
   ],
   "source": [
    "# Descomente para testar a função resample\n",
    "\n",
    "X_res, y_res = resample(X_train, y_train)\n",
    "lbs, counts = np.unique(y_res, return_counts=True)\n",
    "plt.bar(lbs, counts, align='center')\n",
    "plt.gca().set_xticks(lbs)\n",
    "plt.show()\n",
    "\n",
    "print('X_res shape {}'.format(X_res.shape))\n",
    "print('y_res shape {}'.format(y_res.shape))"
   ]
  },
  {
   "cell_type": "markdown",
   "metadata": {},
   "source": [
    "<h1>Treino e predição</h1>"
   ]
  },
  {
   "cell_type": "code",
   "execution_count": 303,
   "metadata": {
    "collapsed": true
   },
   "outputs": [],
   "source": [
    "def fit_and_predict(model, train_data, train_labels, test_data):\n",
    "    model.fit(train_data, train_labels)\n",
    "    return model.predict(test_data)"
   ]
  },
  {
   "cell_type": "markdown",
   "metadata": {},
   "source": [
    "<h1>AdaBoost</h1>"
   ]
  },
  {
   "cell_type": "code",
   "execution_count": 304,
   "metadata": {},
   "outputs": [],
   "source": [
    "adaBoostModel = AdaBoostClassifier()\n",
    "adaBoost_result = fit_and_predict(adaBoostModel, X_train, y_train, X_test)"
   ]
  },
  {
   "cell_type": "code",
   "execution_count": 305,
   "metadata": {},
   "outputs": [
    {
     "data": {
      "text/plain": [
       "0.53104852392263313"
      ]
     },
     "execution_count": 305,
     "metadata": {},
     "output_type": "execute_result"
    }
   ],
   "source": [
    "# Medindo a acurácia média do modelo\n",
    "metrics.accuracy_score(y_test, adaBoost_result)"
   ]
  },
  {
   "cell_type": "code",
   "execution_count": 306,
   "metadata": {},
   "outputs": [
    {
     "name": "stdout",
     "output_type": "stream",
     "text": [
      "             precision    recall  f1-score   support\n",
      "\n",
      "        1.0       0.36      1.00      0.53       496\n",
      "        2.0       0.00      0.00      0.00       471\n",
      "        3.0       0.00      0.00      0.00       420\n",
      "        4.0       0.00      0.00      0.00       491\n",
      "        5.0       0.52      1.00      0.68       532\n",
      "        6.0       1.00      1.00      1.00       537\n",
      "\n",
      "avg / total       0.34      0.53      0.39      2947\n",
      "\n"
     ]
    },
    {
     "name": "stderr",
     "output_type": "stream",
     "text": [
      "/home/vagner/anaconda3/lib/python3.6/site-packages/sklearn/metrics/classification.py:1135: UndefinedMetricWarning: Precision and F-score are ill-defined and being set to 0.0 in labels with no predicted samples.\n",
      "  'precision', 'predicted', average, warn_for)\n"
     ]
    }
   ],
   "source": [
    "# Medidas de validação do modelo\n",
    "print(metrics.classification_report(y_test, adaBoost_result))"
   ]
  },
  {
   "cell_type": "code",
   "execution_count": 307,
   "metadata": {
    "scrolled": true
   },
   "outputs": [
    {
     "name": "stdout",
     "output_type": "stream",
     "text": [
      "Predicted   1.0   5.0  6.0   All\n",
      "True                            \n",
      "1.0         496     0    0   496\n",
      "2.0         471     0    0   471\n",
      "3.0         420     0    0   420\n",
      "4.0           0   491    0   491\n",
      "5.0           0   532    0   532\n",
      "6.0           0     0  537   537\n",
      "All        1387  1023  537  2947\n"
     ]
    }
   ],
   "source": [
    "# Matriz de confusão\n",
    "print(pd.crosstab(y_test, adaBoost_result, rownames=['True'], colnames=['Predicted'], margins=True))"
   ]
  },
  {
   "cell_type": "markdown",
   "metadata": {},
   "source": [
    "<h1>Naive Bayes</h1>"
   ]
  },
  {
   "cell_type": "code",
   "execution_count": 308,
   "metadata": {},
   "outputs": [],
   "source": [
    "nbModel = GaussianNB()\n",
    "nb_result = fit_and_predict(nbModel, X_train, y_train, X_test)"
   ]
  },
  {
   "cell_type": "code",
   "execution_count": 309,
   "metadata": {},
   "outputs": [
    {
     "data": {
      "text/plain": [
       "0.77027485578554467"
      ]
     },
     "execution_count": 309,
     "metadata": {},
     "output_type": "execute_result"
    }
   ],
   "source": [
    "# Medindo a acurácia média do modelo\n",
    "metrics.accuracy_score(y_test, nb_result)"
   ]
  },
  {
   "cell_type": "code",
   "execution_count": 310,
   "metadata": {},
   "outputs": [
    {
     "name": "stdout",
     "output_type": "stream",
     "text": [
      "             precision    recall  f1-score   support\n",
      "\n",
      "        1.0       0.82      0.84      0.83       496\n",
      "        2.0       0.76      0.96      0.84       471\n",
      "        3.0       0.83      0.61      0.70       420\n",
      "        4.0       0.58      0.75      0.65       491\n",
      "        5.0       0.80      0.86      0.83       532\n",
      "        6.0       0.96      0.60      0.74       537\n",
      "\n",
      "avg / total       0.79      0.77      0.77      2947\n",
      "\n"
     ]
    }
   ],
   "source": [
    "# Medidas de validação do modelo\n",
    "print(metrics.classification_report(y_test, nb_result))"
   ]
  },
  {
   "cell_type": "code",
   "execution_count": 311,
   "metadata": {},
   "outputs": [
    {
     "name": "stdout",
     "output_type": "stream",
     "text": [
      "Predicted  1.0  2.0  3.0  4.0  5.0  6.0   All\n",
      "True                                         \n",
      "1.0        416   38   42    0    0    0   496\n",
      "2.0          9  451   11    0    0    0   471\n",
      "3.0         80   83  257    0    0    0   420\n",
      "4.0          0    7    0  368  111    5   491\n",
      "5.0          0   15    0   54  455    8   532\n",
      "6.0          0    3    0  211    0  323   537\n",
      "All        505  597  310  633  566  336  2947\n"
     ]
    }
   ],
   "source": [
    "# Matriz de confusão\n",
    "print(pd.crosstab(y_test, nb_result, rownames=['True'], colnames=['Predicted'], margins=True))"
   ]
  },
  {
   "cell_type": "markdown",
   "metadata": {},
   "source": [
    "<h1>Decision Tree</h1>"
   ]
  },
  {
   "cell_type": "code",
   "execution_count": 312,
   "metadata": {},
   "outputs": [],
   "source": [
    "decisionTreeModel = DecisionTreeClassifier()\n",
    "decisionTreeResult = fit_and_predict(decisionTreeModel, X_train, y_train, X_test)"
   ]
  },
  {
   "cell_type": "code",
   "execution_count": 313,
   "metadata": {},
   "outputs": [
    {
     "data": {
      "text/plain": [
       "0.85680352901255519"
      ]
     },
     "execution_count": 313,
     "metadata": {},
     "output_type": "execute_result"
    }
   ],
   "source": [
    "# Medindo a acurácia média do modelo\n",
    "metrics.accuracy_score(y_test, decisionTreeResult)"
   ]
  },
  {
   "cell_type": "code",
   "execution_count": 314,
   "metadata": {},
   "outputs": [
    {
     "name": "stdout",
     "output_type": "stream",
     "text": [
      "             precision    recall  f1-score   support\n",
      "\n",
      "        1.0       0.82      0.90      0.86       496\n",
      "        2.0       0.82      0.77      0.79       471\n",
      "        3.0       0.85      0.81      0.83       420\n",
      "        4.0       0.84      0.77      0.80       491\n",
      "        5.0       0.80      0.86      0.83       532\n",
      "        6.0       1.00      1.00      1.00       537\n",
      "\n",
      "avg / total       0.86      0.86      0.86      2947\n",
      "\n"
     ]
    }
   ],
   "source": [
    "# Medidas de validação do modelo\n",
    "print(metrics.classification_report(y_test, decisionTreeResult))"
   ]
  },
  {
   "cell_type": "code",
   "execution_count": 315,
   "metadata": {},
   "outputs": [
    {
     "name": "stdout",
     "output_type": "stream",
     "text": [
      "Predicted  1.0  2.0  3.0  4.0  5.0  6.0   All\n",
      "True                                         \n",
      "1.0        446   26   24    0    0    0   496\n",
      "2.0         74  363   34    0    0    0   471\n",
      "3.0         25   55  340    0    0    0   420\n",
      "4.0          0    0    0  379  112    0   491\n",
      "5.0          0    0    0   72  460    0   532\n",
      "6.0          0    0    0    0    0  537   537\n",
      "All        545  444  398  451  572  537  2947\n"
     ]
    }
   ],
   "source": [
    "# Matriz de confusão\n",
    "print(pd.crosstab(y_test, decisionTreeResult, rownames=['True'], colnames=['Predicted'], margins=True))"
   ]
  }
 ],
 "metadata": {
  "kernelspec": {
   "display_name": "Python 3",
   "language": "python",
   "name": "python3"
  },
  "language_info": {
   "codemirror_mode": {
    "name": "ipython",
    "version": 3
   },
   "file_extension": ".py",
   "mimetype": "text/x-python",
   "name": "python",
   "nbconvert_exporter": "python",
   "pygments_lexer": "ipython3",
   "version": "3.6.3"
  }
 },
 "nbformat": 4,
 "nbformat_minor": 2
}

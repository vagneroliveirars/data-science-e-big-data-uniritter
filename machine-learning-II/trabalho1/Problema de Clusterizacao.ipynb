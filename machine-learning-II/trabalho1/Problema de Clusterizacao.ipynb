{
 "cells": [
  {
   "cell_type": "code",
   "execution_count": 46,
   "metadata": {
    "collapsed": true
   },
   "outputs": [],
   "source": [
    "import numpy as np\n",
    "from sklearn.cluster import KMeans\n",
    "import matplotlib.pyplot as plt"
   ]
  },
  {
   "cell_type": "code",
   "execution_count": 47,
   "metadata": {
    "collapsed": true
   },
   "outputs": [],
   "source": [
    "# importando os dados e gerando uma visão sumarizada"
   ]
  },
  {
   "cell_type": "code",
   "execution_count": 48,
   "metadata": {},
   "outputs": [
    {
     "data": {
      "text/plain": [
       "array([[ 0.65584144,  0.57869459],\n",
       "       [ 0.87323599,  1.01929942],\n",
       "       [ 0.84497595,  0.96387815],\n",
       "       [ 0.94733539,  1.12007555],\n",
       "       [ 0.75903867,  0.85381287],\n",
       "       [ 0.77515038,  0.62283528],\n",
       "       [ 0.89980941,  0.98313019],\n",
       "       [ 0.76897417,  0.94410094],\n",
       "       [ 0.56565486,  0.49582744],\n",
       "       [ 0.55133041,  0.51032044],\n",
       "       [ 0.99732821,  0.8073719 ],\n",
       "       [ 0.59916338,  0.82477202],\n",
       "       [ 1.17924092,  1.09377092],\n",
       "       [ 0.95853403,  1.10479304],\n",
       "       [ 0.84113442,  1.01133493],\n",
       "       [ 1.1563945 ,  1.0873606 ],\n",
       "       [ 1.11375423,  1.1106412 ],\n",
       "       [ 0.78327666,  0.79839022],\n",
       "       [ 0.92606231,  0.65856259],\n",
       "       [ 1.04661125,  0.94631668],\n",
       "       [ 1.00449143, -0.76488745],\n",
       "       [ 0.87946258, -0.72266732],\n",
       "       [ 0.52114525, -0.67799821],\n",
       "       [ 0.8971303 , -0.84400689],\n",
       "       [ 0.88885612, -0.89868288],\n",
       "       [ 0.49383252, -0.73051307],\n",
       "       [ 0.46392026, -0.58102834],\n",
       "       [ 0.93538383, -0.68531091],\n",
       "       [ 0.49767799, -0.64093413],\n",
       "       [ 1.04580416, -1.03700843],\n",
       "       [ 0.96082148, -0.74247205],\n",
       "       [ 0.71484905, -0.81326666],\n",
       "       [ 0.7113324 , -0.85166013],\n",
       "       [ 0.89933816, -0.93873453],\n",
       "       [ 0.43911989, -0.62072465],\n",
       "       [ 0.78573715, -0.75135736],\n",
       "       [ 0.44267886, -0.52259848],\n",
       "       [ 0.74284788, -0.60344768],\n",
       "       [ 0.69203734, -0.50700051],\n",
       "       [ 0.9951891 , -0.9764347 ],\n",
       "       [-0.82277708, -0.97900076],\n",
       "       [-0.59693262, -0.55805595],\n",
       "       [-0.65528381, -0.63491307],\n",
       "       [-0.9997423 , -1.03829769],\n",
       "       [-0.50097915, -0.49448517],\n",
       "       [-0.86078797, -0.74534523],\n",
       "       [-1.02755217, -1.11085758],\n",
       "       [-1.23880175, -1.22756637],\n",
       "       [-1.04654666, -0.92576347],\n",
       "       [-0.95387951, -0.89092791],\n",
       "       [-0.49366321, -0.37890745],\n",
       "       [-0.77311503, -0.81820564],\n",
       "       [-0.46591822, -0.38793329],\n",
       "       [-0.77427287, -0.74238515],\n",
       "       [-0.73392674, -0.60857065],\n",
       "       [-0.75580238, -0.90885486],\n",
       "       [-0.5039362 , -0.5934764 ],\n",
       "       [-1.18275808, -1.04862397],\n",
       "       [-0.58205608, -0.80414225],\n",
       "       [-0.45662641, -0.56287258],\n",
       "       [-0.80677787,  0.66685614],\n",
       "       [-0.74494766,  0.64691953],\n",
       "       [-1.2266388 ,  1.18311418],\n",
       "       [-0.95882672,  1.07383367],\n",
       "       [-0.57183687,  0.66451784],\n",
       "       [-1.18384451,  1.06603727],\n",
       "       [-0.42214574,  0.37836272],\n",
       "       [-0.89392498,  0.87014251],\n",
       "       [-0.55913258,  0.80914112],\n",
       "       [-0.5267211 ,  0.75860323],\n",
       "       [-0.6198294 ,  0.43415779],\n",
       "       [-0.6254306 ,  0.60860152],\n",
       "       [-1.19613864,  1.13670116],\n",
       "       [-0.6442567 ,  0.43231467],\n",
       "       [-0.91557592,  0.87322998],\n",
       "       [-0.89452047,  0.80522593],\n",
       "       [-0.9231774 ,  0.95858036],\n",
       "       [-0.94696635,  0.86206476],\n",
       "       [-0.61544622,  0.41536224],\n",
       "       [-1.15865478,  1.22165397],\n",
       "       [-0.00759218,  0.23635233],\n",
       "       [ 0.02140224, -0.12887463],\n",
       "       [ 0.01099962, -0.20773124],\n",
       "       [ 0.05287766, -0.10551458],\n",
       "       [ 0.04995422,  0.24126008],\n",
       "       [ 0.02834082, -0.22604959],\n",
       "       [-0.22759432,  0.0488742 ],\n",
       "       [-0.21956472, -0.05867611],\n",
       "       [ 0.10130596, -0.14424281],\n",
       "       [ 0.01296101, -0.20830318],\n",
       "       [ 0.03407758,  0.07474776],\n",
       "       [-0.01931334,  0.06825467],\n",
       "       [ 0.14368318,  0.13619467],\n",
       "       [-0.18320935,  0.10552754],\n",
       "       [-0.14513115, -0.17054762],\n",
       "       [ 0.21433381, -0.09626172],\n",
       "       [ 0.02406632, -0.14464332],\n",
       "       [ 0.09749887,  0.0355152 ],\n",
       "       [ 0.20369759,  0.02903262],\n",
       "       [ 0.02005362, -0.15603303],\n",
       "       [-0.89143929, -0.14323798],\n",
       "       [-0.8528812 ,  0.20803005],\n",
       "       [-0.97791826,  0.24509564],\n",
       "       [-0.8374468 , -0.08890229],\n",
       "       [-0.81507393,  0.13009116],\n",
       "       [-1.08230014,  0.14019943],\n",
       "       [-0.97258212, -0.01781272],\n",
       "       [-1.03282025,  0.00319669],\n",
       "       [-0.8992744 ,  0.18911607],\n",
       "       [-0.81798101,  0.1887985 ],\n",
       "       [-1.17816751,  0.10877434],\n",
       "       [-0.93676469,  0.15077361],\n",
       "       [-0.94786177, -0.07085732],\n",
       "       [-1.21551162,  0.02894874],\n",
       "       [-0.97855842,  0.20608762],\n",
       "       [-0.97172437, -0.20597666],\n",
       "       [-0.87122865,  0.08377785],\n",
       "       [-0.92214523,  0.16816657],\n",
       "       [-1.13908726, -0.12389769],\n",
       "       [-0.74360837,  0.04705822],\n",
       "       [ 0.98172173, -0.2187908 ],\n",
       "       [ 1.18551786, -0.12645928],\n",
       "       [ 0.9482316 ,  0.17075119],\n",
       "       [ 1.10241285,  0.07519282],\n",
       "       [ 0.94072686, -0.14168948],\n",
       "       [ 0.99891391, -0.14707688],\n",
       "       [ 1.02785374,  0.16580596],\n",
       "       [ 1.13173319, -0.0829665 ],\n",
       "       [ 0.85949312, -0.07649665],\n",
       "       [ 0.78366166,  0.0789707 ],\n",
       "       [ 0.87987628,  0.21738998],\n",
       "       [ 0.84037343, -0.1282033 ],\n",
       "       [ 1.01240956, -0.20766786],\n",
       "       [ 1.11006896,  0.05836528],\n",
       "       [ 0.96046536,  0.19315265],\n",
       "       [ 0.77350692,  0.07707479],\n",
       "       [ 0.85099908, -0.00855769],\n",
       "       [ 0.80538859, -0.04494694],\n",
       "       [ 1.20661964,  0.02741986],\n",
       "       [ 1.08615454, -0.09746034],\n",
       "       [-0.20560875, -1.10804613],\n",
       "       [-0.2473167 , -1.05029988],\n",
       "       [-0.17276134, -0.95747237],\n",
       "       [ 0.06730857, -0.75165678],\n",
       "       [-0.22134121, -0.85646999],\n",
       "       [ 0.0912201 , -1.09335175],\n",
       "       [ 0.09326525, -0.79185727],\n",
       "       [ 0.03945182, -0.91636676],\n",
       "       [ 0.09461142, -1.07543007],\n",
       "       [ 0.05556465, -0.93121294],\n",
       "       [-0.25785629, -0.97585877],\n",
       "       [ 0.10707106, -1.18913968],\n",
       "       [ 0.15227262, -1.01546574],\n",
       "       [ 0.18349377, -0.98518374],\n",
       "       [-0.05149866, -0.77185657],\n",
       "       [ 0.18071485, -1.09017713],\n",
       "       [ 0.14416485, -1.05180004],\n",
       "       [ 0.01078305, -0.8244121 ],\n",
       "       [-0.21267824, -0.866115  ],\n",
       "       [-0.24431451, -1.03243136],\n",
       "       [-0.07601971,  0.72813737],\n",
       "       [-0.00612543,  0.77849409],\n",
       "       [-0.05728199,  1.06250626],\n",
       "       [ 0.01395068,  1.08984523],\n",
       "       [-0.16605061,  0.97775876],\n",
       "       [-0.09864621,  0.82619121],\n",
       "       [ 0.17180826,  0.78168501],\n",
       "       [-0.11427927,  0.79918405],\n",
       "       [ 0.1844267 ,  0.86607371],\n",
       "       [ 0.05700404,  0.93317408],\n",
       "       [-0.03806571,  1.07313225],\n",
       "       [ 0.17066406,  0.96128421],\n",
       "       [-0.08516482,  0.81023849],\n",
       "       [-0.16635012,  0.79820432],\n",
       "       [ 0.22485517,  0.85580783],\n",
       "       [-0.02873063,  0.90430387],\n",
       "       [-0.06134214,  0.94789874],\n",
       "       [-0.17715563,  1.03288002],\n",
       "       [-0.18175731,  0.8582231 ],\n",
       "       [-0.12662531,  1.15301273],\n",
       "       [ 1.87719562, -0.45839462],\n",
       "       [ 1.98659958, -0.51454108],\n",
       "       [ 1.65124041, -0.53576237],\n",
       "       [ 1.65892178, -0.54629683],\n",
       "       [ 1.77332692, -0.39318858],\n",
       "       [ 1.85254904, -0.4178388 ],\n",
       "       [ 1.45807396, -0.4490723 ],\n",
       "       [ 1.73748859, -0.55258709],\n",
       "       [ 1.7724425 , -0.37056816],\n",
       "       [ 1.52998904, -0.34147859],\n",
       "       [ 1.63869649, -0.37346652],\n",
       "       [ 1.78881718, -0.58610549],\n",
       "       [ 1.98873783, -0.46360262],\n",
       "       [ 1.65096218, -0.38300918],\n",
       "       [ 1.60750023, -0.52167948],\n",
       "       [ 1.63729849, -0.51072443],\n",
       "       [ 2.00368085, -0.54503849],\n",
       "       [ 1.50175879, -0.32871366],\n",
       "       [ 1.7692298 , -0.44378282],\n",
       "       [ 1.78065866, -0.37644511],\n",
       "       [-0.41078436, -1.64338808],\n",
       "       [-0.56655873, -1.79872636],\n",
       "       [-0.40962234, -1.66681464],\n",
       "       [-0.44150156, -1.77471124],\n",
       "       [-0.53981391, -1.81845036],\n",
       "       [-0.38419563, -1.79959071],\n",
       "       [-0.53806468, -1.89887925],\n",
       "       [-0.58863493, -1.75065797],\n",
       "       [-0.48152738, -1.60740412],\n",
       "       [-0.56381677, -1.76739474],\n",
       "       [-0.34244992, -1.51179153],\n",
       "       [-0.53412266, -1.91193084],\n",
       "       [-0.3890364 , -1.78711934],\n",
       "       [-0.34047784, -1.69496543],\n",
       "       [-0.39471109, -1.49408148],\n",
       "       [-0.58563448, -1.82034457],\n",
       "       [-0.56551484, -2.03741999],\n",
       "       [-0.50035629, -2.05702769],\n",
       "       [-0.54370958, -1.88072672],\n",
       "       [-0.39040959, -1.7467285 ],\n",
       "       [-1.85096843,  0.56506167],\n",
       "       [-1.59352264,  0.52051216],\n",
       "       [-1.73399252,  0.42204178],\n",
       "       [-1.59116573,  0.3340991 ],\n",
       "       [-1.72308394,  0.5300179 ],\n",
       "       [-1.85509293,  0.59692658],\n",
       "       [-1.57690367,  0.33407953],\n",
       "       [-1.54620078,  0.45416556],\n",
       "       [-1.98442713,  0.52938254],\n",
       "       [-1.92573395,  0.57354827],\n",
       "       [-2.05493659,  0.57399194],\n",
       "       [-1.73308599,  0.53731907],\n",
       "       [-1.61363556,  0.52928732],\n",
       "       [-1.65684524,  0.38014662],\n",
       "       [-1.50705236,  0.47692423],\n",
       "       [-1.46305633,  0.46267233],\n",
       "       [-1.8654954 ,  0.54192665],\n",
       "       [-1.68427307,  0.47924716],\n",
       "       [-1.57376664,  0.50710631],\n",
       "       [-2.05963062,  0.58173879],\n",
       "       [ 0.57489051,  1.76585529],\n",
       "       [ 0.35136779,  1.441674  ],\n",
       "       [ 0.4763337 ,  1.67483346],\n",
       "       [ 0.45944671,  1.70858604],\n",
       "       [ 0.54344599,  2.0998594 ],\n",
       "       [ 0.42771108,  1.46042089],\n",
       "       [ 0.44172583,  1.45552599],\n",
       "       [ 0.58014228,  2.06288138],\n",
       "       [ 0.4641117 ,  1.59352237],\n",
       "       [ 0.50928788,  2.01585391],\n",
       "       [ 0.37205698,  1.46605335],\n",
       "       [ 0.49249943,  2.03752488],\n",
       "       [ 0.51355449,  1.96951667],\n",
       "       [ 0.43916268,  1.88451333],\n",
       "       [ 0.55330992,  2.0583638 ],\n",
       "       [ 0.3755652 ,  1.57402327],\n",
       "       [ 0.47751794,  1.68846836],\n",
       "       [ 0.57192891,  1.95659103],\n",
       "       [ 0.56749846,  2.10320488],\n",
       "       [ 0.58930489,  1.74805462],\n",
       "       [ 0.70410135, -2.41136533],\n",
       "       [ 0.71200238, -2.57103111],\n",
       "       [ 0.4701273 , -2.20726653],\n",
       "       [ 0.46326014, -2.22276186],\n",
       "       [ 0.70999782, -2.25204258],\n",
       "       [ 0.73374016, -2.35725611],\n",
       "       [ 0.44216764, -1.93344481],\n",
       "       [ 0.50724679, -2.31530364],\n",
       "       [ 0.73488976, -2.23634361],\n",
       "       [ 0.61004501, -1.94447327],\n",
       "       [ 0.64469177, -2.08765186],\n",
       "       [ 0.50287425, -2.39487802],\n",
       "       [ 0.77074045, -2.54032844],\n",
       "       [ 0.64192103, -2.10766371],\n",
       "       [ 0.45755116, -2.14886851],\n",
       "       [ 0.48925358, -2.17529559],\n",
       "       [ 0.68877022, -2.61008509],\n",
       "       [ 0.60606652, -1.90439352],\n",
       "       [ 0.65037402, -2.28031617],\n",
       "       [ 0.73361379, -2.24941365],\n",
       "       [-2.11719041, -0.60572765],\n",
       "       [-2.39332871, -0.53132161],\n",
       "       [-2.14280949, -0.62226315],\n",
       "       [-2.28500454, -0.65650527],\n",
       "       [-2.3981505 , -0.57425241],\n",
       "       [-2.27576582, -0.73719383],\n",
       "       [-2.48756302, -0.62850052],\n",
       "       [-2.35356127, -0.47522304],\n",
       "       [-2.12266144, -0.50269325],\n",
       "       [-2.35627227, -0.51404305],\n",
       "       [-1.92461728, -0.59712307],\n",
       "       [-2.4996946 , -0.64142212],\n",
       "       [-2.26487163, -0.72363754],\n",
       "       [-2.12955866, -0.71840633],\n",
       "       [-1.93864848, -0.52677418],\n",
       "       [-2.43006644, -0.52389733],\n",
       "       [-2.66137936, -0.68764771],\n",
       "       [-2.64110129, -0.77375036],\n",
       "       [-2.47079548, -0.61034617],\n",
       "       [-2.22029086, -0.69583751],\n",
       "       [-0.56696439,  2.45117147],\n",
       "       [-0.44977994,  2.13237332],\n",
       "       [-0.65194656,  2.22651319],\n",
       "       [-0.65811793,  2.00855134],\n",
       "       [-0.5232929 ,  2.28441644],\n",
       "       [-0.53377074,  2.47652717],\n",
       "       [-0.64886962,  1.99248192],\n",
       "       [-0.49371593,  2.03597152],\n",
       "       [-0.69388129,  2.57823225],\n",
       "       [-0.60600748,  2.54086126],\n",
       "       [-0.6894897 ,  2.68661024],\n",
       "       [-0.52157434,  2.30042284],\n",
       "       [-0.45297397,  2.16072096],\n",
       "       [-0.64896779,  2.11242639],\n",
       "       [-0.44264699,  2.00669007],\n",
       "       [-0.43009483,  1.94789415],\n",
       "       [-0.60245309,  2.45248865],\n",
       "       [-0.55522521,  2.20772089],\n",
       "       [-0.45203129,  2.10141756],\n",
       "       [-0.68381916,  2.69693038],\n",
       "       [ 2.36173704,  0.50057522],\n",
       "       [ 1.85147326,  0.54150664],\n",
       "       [ 2.19519972,  0.55236953],\n",
       "       [ 2.22222295,  0.59332064],\n",
       "       [ 2.71733095,  0.75307918],\n",
       "       [ 1.92220228,  0.46774232],\n",
       "       [ 1.92580101,  0.44878237],\n",
       "       [ 2.69955247,  0.68772956],\n",
       "       [ 2.09571271,  0.51327726],\n",
       "       [ 2.60055203,  0.73693192],\n",
       "       [ 1.89236832,  0.53406064],\n",
       "       [ 2.61403743,  0.76991904],\n",
       "       [ 2.55115732,  0.70200923],\n",
       "       [ 2.40710308,  0.73050982],\n",
       "       [ 2.67702539,  0.71500189],\n",
       "       [ 2.01620476,  0.60029142],\n",
       "       [ 2.2113201 ,  0.55989897],\n",
       "       [ 2.57454859,  0.62788772],\n",
       "       [ 2.73673151,  0.72817467],\n",
       "       [ 2.3510658 ,  0.4727766 ],\n",
       "       [-1.90987825, -1.99699755],\n",
       "       [-2.05763478, -2.09234047],\n",
       "       [-1.84413376, -1.66185299],\n",
       "       [-1.86267198, -1.66383358],\n",
       "       [-1.7548599 , -1.91498718],\n",
       "       [-1.84203095, -1.99547224],\n",
       "       [-1.59866135, -1.4846159 ],\n",
       "       [-1.92663721, -1.75663447],\n",
       "       [-1.72621405, -1.9300655 ],\n",
       "       [-1.51683482, -1.65060622],\n",
       "       [-1.63417503, -1.76235992],\n",
       "       [-2.00484689, -1.79623498],\n",
       "       [-1.99608061, -2.13140953],\n",
       "       [-1.65476278, -1.77072696],\n",
       "       [-1.79541905, -1.61775371],\n",
       "       [-1.80315789, -1.66248921],\n",
       "       [-2.10761637, -2.09168856],\n",
       "       [-1.4808419 , -1.62477233],\n",
       "       [-1.81458719, -1.87373836],\n",
       "       [-1.73936671, -1.9360385 ],\n",
       "       [-1.74148781,  1.68374454],\n",
       "       [-1.8224826 ,  1.98772493],\n",
       "       [-1.77133049,  1.69905547],\n",
       "       [-1.88215776,  1.81568127],\n",
       "       [-1.86603167,  1.96870636],\n",
       "       [-1.95394264,  1.76250151],\n",
       "       [-1.96688682,  2.02404675],\n",
       "       [-1.74716944,  1.98069556],\n",
       "       [-1.64634343,  1.74562532],\n",
       "       [-1.78564152,  1.96192713],\n",
       "       [-1.62737563,  1.50502651],\n",
       "       [-1.98586867,  2.02849677],\n",
       "       [-1.93503674,  1.75957936],\n",
       "       [-1.85563121,  1.63355361],\n",
       "       [-1.56807647,  1.55708491],\n",
       "       [-1.83561578,  2.02680567],\n",
       "       [-2.11883107,  2.15709811],\n",
       "       [-2.18970193,  2.09042419],\n",
       "       [-1.94037033,  2.01805843],\n",
       "       [-1.88403423,  1.73240049],\n",
       "       [ 2.02322402,  1.88825043],\n",
       "       [ 1.78397944,  1.60127827],\n",
       "       [ 1.76246808,  1.84564477],\n",
       "       [ 1.55143727,  1.73164476],\n",
       "       [ 1.88838784,  1.75493248],\n",
       "       [ 2.06563507,  1.87057487],\n",
       "       [ 1.54121566,  1.71399639],\n",
       "       [ 1.6679796 ,  1.59011192],\n",
       "       [ 2.07446138,  2.07903845],\n",
       "       [ 2.08719132,  1.97477335],\n",
       "       [ 2.18012066,  2.13446279],\n",
       "       [ 1.90458119,  1.76209886],\n",
       "       [ 1.80922748,  1.61991219],\n",
       "       [ 1.65542412,  1.78005936],\n",
       "       [ 1.66817319,  1.52535743],\n",
       "       [ 1.61906624,  1.48106213],\n",
       "       [ 2.00496002,  1.92278241],\n",
       "       [ 1.79776275,  1.74316955],\n",
       "       [ 1.75325188,  1.5863973 ],\n",
       "       [ 2.19307071,  2.13473695],\n",
       "       [ 1.77581731, -1.97454033],\n",
       "       [ 1.53416465, -1.46593651],\n",
       "       [ 1.7335625 , -1.78740535],\n",
       "       [ 1.78743645, -1.79062533],\n",
       "       [ 2.21193629, -2.17441185],\n",
       "       [ 1.50279565, -1.57388533],\n",
       "       [ 1.48671318, -1.58774156],\n",
       "       [ 2.13990425, -2.19341786],\n",
       "       [ 1.64160425, -1.714132  ],\n",
       "       [ 2.13232556, -2.07204598],\n",
       "       [ 1.54956367, -1.50898959],\n",
       "       [ 2.17116698, -2.06674963],\n",
       "       [ 2.07189014, -2.04419868],\n",
       "       [ 2.01981076, -1.89129326],\n",
       "       [ 2.15349475, -2.15695815],\n",
       "       [ 1.680767  , -1.59053271],\n",
       "       [ 1.74960146, -1.79862089],\n",
       "       [ 2.01414511, -2.10724869],\n",
       "       [ 2.19888186, -2.20659084],\n",
       "       [ 1.74346638, -1.97966385]])"
      ]
     },
     "execution_count": 48,
     "metadata": {},
     "output_type": "execute_result"
    }
   ],
   "source": [
    "data = np.genfromtxt('dataset/unlabeled_data.txt')\n",
    "data"
   ]
  },
  {
   "cell_type": "code",
   "execution_count": 49,
   "metadata": {},
   "outputs": [
    {
     "data": {
      "text/plain": [
       "(420, 2)"
      ]
     },
     "execution_count": 49,
     "metadata": {},
     "output_type": "execute_result"
    }
   ],
   "source": [
    "data.shape"
   ]
  },
  {
   "cell_type": "code",
   "execution_count": 50,
   "metadata": {},
   "outputs": [
    {
     "data": {
      "image/png": "[encoded data removed]",
      "text/plain": [
       "<matplotlib.figure.Figure at 0x7f69145e4898>"
      ]
     },
     "metadata": {},
     "output_type": "display_data"
    }
   ],
   "source": [
    "#plt.scatter(data.iloc[:, 0].values, data.iloc[:,1].values)\n",
    "plt.scatter(data[:, 0], data[:,1])\n",
    "plt.show()"
   ]
  },
  {
   "cell_type": "code",
   "execution_count": 51,
   "metadata": {
    "collapsed": true
   },
   "outputs": [],
   "source": [
    "# Inicializando o K-means utilizando 8 clusters \n",
    "# e o método de inicialização random que irá selecionar os centroides de forma aleatória."
   ]
  },
  {
   "cell_type": "code",
   "execution_count": 52,
   "metadata": {
    "collapsed": true
   },
   "outputs": [],
   "source": [
    "kmeans = KMeans(n_clusters = 8, init = 'random')"
   ]
  },
  {
   "cell_type": "code",
   "execution_count": 53,
   "metadata": {
    "collapsed": true
   },
   "outputs": [],
   "source": [
    "# Executando o método fit() para agrupar os dados"
   ]
  },
  {
   "cell_type": "code",
   "execution_count": 54,
   "metadata": {},
   "outputs": [
    {
     "data": {
      "text/plain": [
       "KMeans(algorithm='auto', copy_x=True, init='random', max_iter=300,\n",
       "    n_clusters=8, n_init=10, n_jobs=1, precompute_distances='auto',\n",
       "    random_state=None, tol=0.0001, verbose=0)"
      ]
     },
     "execution_count": 54,
     "metadata": {},
     "output_type": "execute_result"
    }
   ],
   "source": [
    "kmeans.fit(data)"
   ]
  },
  {
   "cell_type": "code",
   "execution_count": 55,
   "metadata": {
    "collapsed": true
   },
   "outputs": [],
   "source": [
    "# Verificando os centroides gerados"
   ]
  },
  {
   "cell_type": "code",
   "execution_count": 56,
   "metadata": {},
   "outputs": [
    {
     "data": {
      "text/plain": [
       "array([[ 2.09137412,  1.19940323],\n",
       "       [-1.21074099,  2.06346647],\n",
       "       [-0.35048756, -1.02297091],\n",
       "       [-1.13746519,  0.43866851],\n",
       "       [-2.03469621, -1.21923782],\n",
       "       [ 1.12227393, -0.39203955],\n",
       "       [ 0.40547169,  1.09592388],\n",
       "       [ 1.23931208, -2.06587929]])"
      ]
     },
     "execution_count": 56,
     "metadata": {},
     "output_type": "execute_result"
    }
   ],
   "source": [
    "kmeans.cluster_centers_"
   ]
  },
  {
   "cell_type": "code",
   "execution_count": 57,
   "metadata": {
    "collapsed": true
   },
   "outputs": [],
   "source": [
    "# Tabela de distâncias\n",
    "# Cada instância contém três valores, e cada valor corresponde exatamente a distância \n",
    "# entre a instância de dados corrente e cada um dos três clusters"
   ]
  },
  {
   "cell_type": "code",
   "execution_count": 58,
   "metadata": {},
   "outputs": [
    {
     "data": {
      "text/plain": [
       "array([[ 1.86890051,  2.38509486,  1.06388182, ...,  3.21686548,\n",
       "         1.79876513,  1.56397995],\n",
       "       [ 2.35828986,  2.33093219,  1.42370996, ...,  3.65121751,\n",
       "         2.09285725,  1.23138048],\n",
       "       [ 2.29621711,  2.33132293,  1.3741515 , ...,  3.59504861,\n",
       "         2.0508335 ,  1.26845593],\n",
       "       ..., \n",
       "       [ 2.59288476,  5.27207315,  1.94678784, ...,  4.12614428,\n",
       "         4.0514617 ,  3.30755366],\n",
       "       [ 2.80234404,  5.46433138,  2.12406348, ...,  4.32836564,\n",
       "         4.25777039,  3.40769035],\n",
       "       [ 2.29364506,  5.00741889,  1.71711959, ...,  3.83485229,\n",
       "         3.76139577,  3.19804742]])"
      ]
     },
     "execution_count": 58,
     "metadata": {},
     "output_type": "execute_result"
    }
   ],
   "source": [
    "distance = kmeans.fit_transform(data)\n",
    "distance"
   ]
  },
  {
   "cell_type": "code",
   "execution_count": 59,
   "metadata": {
    "collapsed": true
   },
   "outputs": [],
   "source": [
    "# labels para cada instância, ou seja, o código do cluster que a instância de dados foi atribuído"
   ]
  },
  {
   "cell_type": "code",
   "execution_count": 60,
   "metadata": {},
   "outputs": [
    {
     "data": {
      "text/plain": [
       "array([3, 3, 3, 3, 3, 3, 3, 3, 3, 3, 3, 3, 3, 3, 3, 3, 3, 3, 3, 3, 2, 2, 2,\n",
       "       2, 2, 2, 2, 2, 2, 2, 2, 2, 2, 2, 2, 2, 2, 2, 2, 2, 0, 0, 0, 0, 0, 0,\n",
       "       0, 5, 0, 0, 0, 0, 0, 0, 0, 0, 0, 5, 0, 0, 6, 6, 6, 6, 6, 6, 6, 6, 6,\n",
       "       6, 6, 6, 6, 6, 6, 6, 6, 6, 6, 6, 3, 0, 0, 0, 3, 0, 6, 0, 0, 0, 3, 0,\n",
       "       3, 6, 0, 2, 0, 2, 2, 0, 6, 6, 6, 6, 6, 6, 6, 6, 6, 6, 6, 6, 6, 6, 6,\n",
       "       6, 6, 6, 6, 6, 2, 2, 2, 2, 2, 2, 2, 2, 2, 2, 2, 2, 2, 2, 2, 2, 2, 2,\n",
       "       2, 2, 0, 0, 0, 0, 0, 0, 0, 0, 0, 0, 0, 0, 0, 0, 0, 0, 0, 0, 0, 0, 3,\n",
       "       3, 3, 3, 3, 3, 3, 3, 3, 3, 3, 3, 3, 3, 3, 3, 3, 3, 3, 3, 2, 2, 2, 2,\n",
       "       2, 2, 2, 2, 2, 2, 2, 2, 2, 2, 2, 2, 2, 2, 2, 2, 0, 0, 0, 0, 0, 0, 0,\n",
       "       0, 0, 0, 0, 0, 0, 0, 0, 0, 0, 0, 0, 0, 6, 6, 6, 6, 6, 6, 6, 6, 6, 6,\n",
       "       6, 6, 6, 6, 6, 6, 6, 6, 6, 6, 3, 3, 3, 3, 3, 3, 3, 3, 3, 3, 3, 3, 3,\n",
       "       3, 3, 3, 3, 3, 3, 3, 4, 4, 4, 4, 4, 4, 4, 4, 4, 4, 4, 4, 4, 4, 4, 4,\n",
       "       4, 4, 4, 4, 5, 5, 5, 5, 5, 5, 5, 5, 5, 5, 5, 5, 5, 5, 5, 5, 5, 5, 5,\n",
       "       5, 1, 1, 1, 1, 1, 1, 1, 1, 1, 1, 1, 1, 1, 1, 1, 1, 1, 1, 1, 1, 7, 7,\n",
       "       7, 7, 7, 7, 7, 7, 7, 7, 7, 7, 7, 7, 7, 7, 7, 7, 7, 7, 5, 5, 5, 5, 5,\n",
       "       5, 5, 5, 5, 5, 5, 5, 5, 5, 5, 5, 5, 5, 5, 5, 1, 1, 1, 1, 1, 1, 1, 1,\n",
       "       1, 1, 1, 1, 1, 1, 1, 1, 1, 1, 1, 1, 7, 7, 7, 7, 7, 7, 7, 7, 7, 7, 7,\n",
       "       7, 7, 7, 7, 7, 7, 7, 7, 7, 4, 4, 4, 4, 4, 4, 4, 4, 4, 4, 4, 4, 4, 4,\n",
       "       4, 4, 4, 4, 4, 4], dtype=int32)"
      ]
     },
     "execution_count": 60,
     "metadata": {},
     "output_type": "execute_result"
    }
   ],
   "source": [
    "labels = kmeans.labels_\n",
    "labels"
   ]
  },
  {
   "cell_type": "code",
   "execution_count": 61,
   "metadata": {
    "collapsed": true
   },
   "outputs": [],
   "source": [
    "# Utilizando o método Elbow para encontrar o valor ideal do parâmetro k\n",
    "# Podemos ver que a partir do número de 8 clusters não temos uma diminuição tão expressiva"
   ]
  },
  {
   "cell_type": "code",
   "execution_count": 62,
   "metadata": {},
   "outputs": [
    {
     "name": "stdout",
     "output_type": "stream",
     "text": [
      "1 1456.11116843\n",
      "2 946.074057364\n",
      "3 601.811501134\n",
      "4 433.39211795\n",
      "5 352.943808411\n",
      "6 284.956580137\n",
      "7 232.793997732\n",
      "8 192.400706817\n",
      "9 156.414735749\n",
      "10 140.920048815\n"
     ]
    },
    {
     "data": {
      "image/png": "[encoded data removed]",
      "text/plain": [
       "<matplotlib.figure.Figure at 0x7f69144b1c88>"
      ]
     },
     "metadata": {},
     "output_type": "display_data"
    }
   ],
   "source": [
    "wcss = []\n",
    " \n",
    "for i in range(1, 11):\n",
    "    kmeans = KMeans(n_clusters = i, init = 'random')\n",
    "    kmeans.fit(data)\n",
    "    print(i, kmeans.inertia_)\n",
    "    wcss.append(kmeans.inertia_)  \n",
    "plt.plot(range(1, 11), wcss)\n",
    "plt.title('O Metodo Elbow')\n",
    "plt.xlabel('Numero de Clusters')\n",
    "plt.ylabel('WSS') #within cluster sum of squares\n",
    "plt.show()"
   ]
  },
  {
   "cell_type": "code",
   "execution_count": 63,
   "metadata": {
    "collapsed": true
   },
   "outputs": [],
   "source": [
    "# Representação gráfica dos dados e centróides"
   ]
  },
  {
   "cell_type": "code",
   "execution_count": 64,
   "metadata": {},
   "outputs": [
    {
     "data": {
      "image/png": "[encoded data removed]",
      "text/plain": [
       "<matplotlib.figure.Figure at 0x7f69144c8e80>"
      ]
     },
     "metadata": {},
     "output_type": "display_data"
    }
   ],
   "source": [
    "plt.scatter(data[:, 0], data[:,1], s = 100, c = kmeans.labels_)\n",
    "plt.scatter(kmeans.cluster_centers_[:, 0], kmeans.cluster_centers_[:, 1], s = 300, c = 'red',label = 'Centroides')\n",
    "plt.title('Clusters e centroides')\n",
    "\n",
    "plt.legend()\n",
    " \n",
    "plt.show()\n"
   ]
  },
  {
   "cell_type": "code",
   "execution_count": null,
   "metadata": {
    "collapsed": true
   },
   "outputs": [],
   "source": []
  }
 ],
 "metadata": {
  "kernelspec": {
   "display_name": "Python 3",
   "language": "python",
   "name": "python3"
  },
  "language_info": {
   "codemirror_mode": {
    "name": "ipython",
    "version": 3
   },
   "file_extension": ".py",
   "mimetype": "text/x-python",
   "name": "python",
   "nbconvert_exporter": "python",
   "pygments_lexer": "ipython3",
   "version": "3.6.3"
  }
 },
 "nbformat": 4,
 "nbformat_minor": 2
}
